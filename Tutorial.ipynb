{
 "cells": [
  {
   "cell_type": "markdown",
   "metadata": {},
   "source": [
    "# 走れメロスっぽい文ジェネレータ"
   ]
  },
  {
   "cell_type": "code",
   "execution_count": 1,
   "metadata": {
    "collapsed": true
   },
   "outputs": [],
   "source": [
    "%matplotlib inline\n",
    "%load_ext autoreload\n",
    "%autoreload 2"
   ]
  },
  {
   "cell_type": "markdown",
   "metadata": {},
   "source": [
    "## 環境を整備しましょう"
   ]
  },
  {
   "cell_type": "code",
   "execution_count": 2,
   "metadata": {
    "collapsed": false,
    "scrolled": false
   },
   "outputs": [
    {
     "name": "stdout",
     "output_type": "stream",
     "text": [
      "Reading package lists...\n",
      "Building dependency tree...\n",
      "Reading state information...\n",
      "libmecab-dev is already the newest version.\n",
      "mecab is already the newest version.\n",
      "mecab-ipadic-utf8 is already the newest version.\n",
      "nkf is already the newest version.\n",
      "unzip is already the newest version.\n",
      "0 upgraded, 0 newly installed, 0 to remove and 0 not upgraded.\n"
     ]
    }
   ],
   "source": [
    "%%bash\n",
    "\n",
    "apt-get install -y mecab mecab-ipadic-utf8 libmecab-dev unzip nkf"
   ]
  },
  {
   "cell_type": "code",
   "execution_count": 3,
   "metadata": {
    "collapsed": false
   },
   "outputs": [
    {
     "name": "stdout",
     "output_type": "stream",
     "text": [
      "Requirement already satisfied (use --upgrade to upgrade): mecab-python in /usr/local/lib/python2.7/dist-packages\r\n",
      "Cleaning up...\r\n"
     ]
    }
   ],
   "source": [
    "!pip install mecab-python"
   ]
  },
  {
   "cell_type": "markdown",
   "metadata": {},
   "source": [
    "## データを用意しましょう"
   ]
  },
  {
   "cell_type": "code",
   "execution_count": 4,
   "metadata": {
    "collapsed": false
   },
   "outputs": [],
   "source": [
    "%%bash\n",
    "\n",
    "mkdir -p /jupyter/data/dazai\n",
    "cd /jupyter/data/dazai\n",
    "\n",
    "if [ ! -e 1567_ruby_4948.zip ]; then\n",
    "    wget http://www.aozora.gr.jp/cards/000035/files/1567_ruby_4948.zip\n",
    "    unzip 1567_ruby_4948.zip\n",
    "fi"
   ]
  },
  {
   "cell_type": "markdown",
   "metadata": {},
   "source": [
    "### UTF8に変換"
   ]
  },
  {
   "cell_type": "code",
   "execution_count": 5,
   "metadata": {
    "collapsed": false
   },
   "outputs": [
    {
     "name": "stdout",
     "output_type": "stream",
     "text": [
      "/jupyter/data/dazai\n"
     ]
    }
   ],
   "source": [
    "cd /jupyter/data/dazai"
   ]
  },
  {
   "cell_type": "code",
   "execution_count": 6,
   "metadata": {
    "collapsed": false
   },
   "outputs": [],
   "source": [
    "%%bash\n",
    "nkf -w < hashire_merosu.txt > hashire_merosu.utf8.txt"
   ]
  },
  {
   "cell_type": "markdown",
   "metadata": {},
   "source": [
    "### 文切り・形態素解析(単語分割)"
   ]
  },
  {
   "cell_type": "code",
   "execution_count": 7,
   "metadata": {
    "collapsed": false
   },
   "outputs": [],
   "source": [
    "with open(\"hashire_merosu.utf8.txt\") as fp:\n",
    "    data = fp.read()"
   ]
  },
  {
   "cell_type": "code",
   "execution_count": 8,
   "metadata": {
    "collapsed": false
   },
   "outputs": [],
   "source": [
    "data = data.replace(\"\\r\", \"\").split(\"\\n\")[16:-15]"
   ]
  },
  {
   "cell_type": "code",
   "execution_count": 9,
   "metadata": {
    "collapsed": false
   },
   "outputs": [],
   "source": [
    "import re\n",
    "\n",
    "def sentence_split(data):\n",
    "    splitted = data.replace(\"。\", \"。\\n\")\n",
    "    splitted = splitted.replace(\"」\", \"」\\n\")\n",
    "    splitted = splitted.replace(\"！\", \"！\\n\")\n",
    "    splitted = splitted.replace(\"？\", \"？\\n\")\n",
    "    splitted = splitted.replace(\"。\\n」\\n\", \"。」\\n\")\n",
    "    par = re.compile(r\"「.*?」\", re.DOTALL)\n",
    "    match = par.findall(splitted)\n",
    "    for m in match:\n",
    "        replaced = m.replace(\"\\n\", \"\")\n",
    "        splitted = splitted.replace(m, replaced)\n",
    "        \n",
    "    par = re.compile(r\"（.*?）\", re.DOTALL)\n",
    "    match = par.findall(splitted)\n",
    "    for m in match:\n",
    "        replaced = m.replace(\"\\n\", \"\")\n",
    "        splitted = splitted.replace(m, replaced)\n",
    "        \n",
    "    return filter(lambda line: line != \"\", splitted.split(\"\\n\"))"
   ]
  },
  {
   "cell_type": "code",
   "execution_count": 10,
   "metadata": {
    "collapsed": false
   },
   "outputs": [],
   "source": [
    "corpus = []\n",
    "for line in data:\n",
    "    corpus += sentence_split(line)"
   ]
  },
  {
   "cell_type": "code",
   "execution_count": 11,
   "metadata": {
    "collapsed": true
   },
   "outputs": [],
   "source": [
    "def normalize(line):\n",
    "    line = line.replace(\"　\", \" \")\n",
    "    line = re.sub(\"《.*?》\", \"\", line)\n",
    "    return line.strip()"
   ]
  },
  {
   "cell_type": "code",
   "execution_count": 12,
   "metadata": {
    "collapsed": false
   },
   "outputs": [],
   "source": [
    "corpus = [normalize(line) for line in corpus]"
   ]
  },
  {
   "cell_type": "code",
   "execution_count": 13,
   "metadata": {
    "collapsed": false
   },
   "outputs": [],
   "source": [
    "import MeCab"
   ]
  },
  {
   "cell_type": "code",
   "execution_count": 14,
   "metadata": {
    "collapsed": true
   },
   "outputs": [],
   "source": [
    "tagger = MeCab.Tagger(\"-Owakati\")"
   ]
  },
  {
   "cell_type": "code",
   "execution_count": 15,
   "metadata": {
    "collapsed": false
   },
   "outputs": [],
   "source": [
    "wordss = []\n",
    "for line in corpus:\n",
    "    wordss.append(tagger.parse(line).replace(\"\\n\", \"\").split(\" \"))"
   ]
  },
  {
   "cell_type": "code",
   "execution_count": 16,
   "metadata": {
    "collapsed": false
   },
   "outputs": [
    {
     "name": "stdout",
     "output_type": "stream",
     "text": [
      "メロス は 激怒 し た 。 \n",
      "必ず 、 かの 邪智 暴虐 の 王 を 除か なけれ ば なら ぬ と 決意 し た 。 \n",
      "メロス に は 政治 が わから ぬ 。 \n",
      "メロス は 、 村 の 牧人 で ある 。 \n",
      "笛 を 吹き 、 羊 と 遊ん で 暮し て 来 た 。 \n"
     ]
    }
   ],
   "source": [
    "for words in wordss[:5]:\n",
    "    print \" \".join(words)"
   ]
  },
  {
   "cell_type": "markdown",
   "metadata": {},
   "source": [
    "## 単語辞書を用意しましょう"
   ]
  },
  {
   "cell_type": "code",
   "execution_count": 17,
   "metadata": {
    "collapsed": true
   },
   "outputs": [],
   "source": [
    "import itertools as it"
   ]
  },
  {
   "cell_type": "code",
   "execution_count": 18,
   "metadata": {
    "collapsed": false
   },
   "outputs": [],
   "source": [
    "vocab = set(it.chain.from_iterable(wordss))\n",
    "vocab = dict([(word, i + 2) for i, word in enumerate(vocab)] + [(\"<unk>\", 0), (\"</s>\", 1)])"
   ]
  },
  {
   "cell_type": "markdown",
   "metadata": {},
   "source": [
    "## モデルを作りましょう"
   ]
  },
  {
   "cell_type": "code",
   "execution_count": 19,
   "metadata": {
    "collapsed": true
   },
   "outputs": [],
   "source": [
    "import chainer\n",
    "from chainer import functions as F\n",
    "from chainer import links as L\n",
    "from chainer import optimizers as O\n",
    "from chainer import optimizer\n",
    "from chainer.link import Chain\n",
    "from chainer import Variable\n",
    "import numpy as np\n",
    "import cupy"
   ]
  },
  {
   "cell_type": "code",
   "execution_count": 20,
   "metadata": {
    "collapsed": true
   },
   "outputs": [],
   "source": [
    "class LM(Chain):\n",
    "    def __init__(self, n_vocab):\n",
    "        super(LM, self).__init__(\n",
    "            embed=L.EmbedID(n_vocab, 100),\n",
    "            lstm1=L.LSTM(100, 50),\n",
    "            lstm2=L.LSTM(50, 50),\n",
    "            out=L.Linear(50, n_vocab),\n",
    "        )\n",
    "        \n",
    "        self.n_vocab = n_vocab\n",
    "        \n",
    "        self.dropout_ratio = 0.5\n",
    "        self.train = False\n",
    "        self.softmax = lambda x: x\n",
    "    \n",
    "    def reset_state(self):\n",
    "        self.lstm1.reset_state()\n",
    "        self.lstm2.reset_state()\n",
    "    \n",
    "    def __call__(self, x):\n",
    "        h = self.embed(x)\n",
    "        h = self.lstm1(h)\n",
    "        h = F.dropout(h, ratio=self.dropout_ratio, train=self.train)\n",
    "        h = self.lstm2(h)\n",
    "        h = F.dropout(h, ratio=self.dropout_ratio, train=self.train)\n",
    "        y = self.out(h)\n",
    "        y = self.softmax(y)\n",
    "        \n",
    "        return y"
   ]
  },
  {
   "cell_type": "code",
   "execution_count": 21,
   "metadata": {
    "collapsed": true
   },
   "outputs": [],
   "source": [
    "def corpus_to_id_vector(list_of_words, vocab_dict):\n",
    "    longest = max([len(words) for words in list_of_words]) + 1\n",
    "    id_vec = np.empty((len(list_of_words), longest), dtype=np.int32)\n",
    "    for i, words in enumerate(list_of_words):\n",
    "        for j, word in enumerate(words):\n",
    "            id_vec[i, j] = vocab_dict[word]\n",
    "        \n",
    "        for j in xrange(len(words), longest):\n",
    "            id_vec[i, j] = vocab_dict[\"</s>\"]\n",
    "            \n",
    "    return id_vec"
   ]
  },
  {
   "cell_type": "code",
   "execution_count": 22,
   "metadata": {
    "collapsed": true
   },
   "outputs": [],
   "source": [
    "def forward_all(ids, classifier, train=False):\n",
    "    loss = 0\n",
    "    for pos in xrange(ids.shape[1] - 1):\n",
    "        x = Variable(ids[:, pos], volatile=not train)\n",
    "        t = Variable(ids[:, pos + 1], volatile=not train)\n",
    "        loss += classifier(x, t)\n",
    "        \n",
    "    return loss"
   ]
  },
  {
   "cell_type": "code",
   "execution_count": 23,
   "metadata": {
    "collapsed": false
   },
   "outputs": [],
   "source": [
    "def test(model, n_words=10):\n",
    "    model.reset_state()\n",
    "    word = \"メロス\"\n",
    "    ret = []\n",
    "    for i in xrange(n_words):\n",
    "        ret.append(word)\n",
    "        word_id = vocab[word]\n",
    "        y = model(Variable(cupy.array([word_id], dtype=np.int32), volatile=True))\n",
    "        next_word_id = y.data[0].argmax()\n",
    "        word = filter(lambda (i, v): v == next_word_id, vocab.iteritems())[0][0]\n",
    "    return ret"
   ]
  },
  {
   "cell_type": "code",
   "execution_count": 24,
   "metadata": {
    "collapsed": false
   },
   "outputs": [],
   "source": [
    "lm = LM(len(vocab))"
   ]
  },
  {
   "cell_type": "code",
   "execution_count": 25,
   "metadata": {
    "collapsed": true
   },
   "outputs": [],
   "source": [
    "id_vec = corpus_to_id_vector(wordss, vocab)"
   ]
  },
  {
   "cell_type": "code",
   "execution_count": 26,
   "metadata": {
    "collapsed": false
   },
   "outputs": [
    {
     "name": "stderr",
     "output_type": "stream",
     "text": [
      "/usr/local/lib/python2.7/dist-packages/chainer/cuda.py:85: UserWarning: cuDNN is not enabled.\n",
      "Please reinstall chainer after you install cudnn\n",
      "(see https://github.com/pfnet/chainer#installation).\n",
      "  'cuDNN is not enabled.\\n'\n"
     ]
    },
    {
     "data": {
      "text/plain": [
       "<chainer.links.model.classifier.Classifier at 0x7fb9bebd5950>"
      ]
     },
     "execution_count": 26,
     "metadata": {},
     "output_type": "execute_result"
    }
   ],
   "source": [
    "id_vec = chainer.cuda.to_gpu(id_vec, device=1)\n",
    "classifier = L.Classifier(lm)\n",
    "classifier.to_gpu(1)"
   ]
  },
  {
   "cell_type": "code",
   "execution_count": 27,
   "metadata": {
    "collapsed": true
   },
   "outputs": [],
   "source": [
    "opt = O.AdaDelta()\n",
    "opt.setup(classifier)\n",
    "opt.add_hook(optimizer.GradientClipping(5))"
   ]
  },
  {
   "cell_type": "code",
   "execution_count": 28,
   "metadata": {
    "collapsed": false
   },
   "outputs": [
    {
     "name": "stdout",
     "output_type": "stream",
     "text": [
      "[0] Loss=1041.6340332\n",
      "メロス 疑い 疑い 幽か 皇后 幽か 血液 激怒 夜明け こんど\n",
      "[20] Loss=126.401634216\n",
      "[40] Loss=91.8752059937\n",
      "[60] Loss=83.6573867798\n",
      "[80] Loss=79.0079650879\n",
      "[100] Loss=75.7060699463\n",
      "メロス は 、 、 私 を 、 、 私 を\n",
      "[120] Loss=72.9556732178\n",
      "[140] Loss=70.7351379395\n",
      "[160] Loss=68.2887878418\n",
      "[180] Loss=66.5264129639\n",
      "[200] Loss=64.8943328857\n",
      "メロス は 、 メロス は 、 メロス の だ 。\n",
      "[220] Loss=63.5608100891\n",
      "[240] Loss=62.2335510254\n",
      "[260] Loss=61.1006889343\n",
      "[280] Loss=59.3960418701\n",
      "[300] Loss=58.0964126587\n",
      "メロス は 、 私 の 間 を 、 ここ に\n",
      "[320] Loss=56.8628883362\n",
      "[340] Loss=55.9995155334\n",
      "[360] Loss=55.0843849182\n",
      "[380] Loss=53.8716697693\n",
      "[400] Loss=52.8403282166\n",
      "メロス は 、 私 を 信じ た 。  </s>\n",
      "[420] Loss=51.3962554932\n",
      "[440] Loss=50.8320732117\n",
      "[460] Loss=49.9990959167\n",
      "[480] Loss=49.0964546204\n",
      "[500] Loss=48.1239089966\n",
      "メロス は 、 いま は 、 メロス の 友 を\n",
      "[520] Loss=47.2607803345\n",
      "[540] Loss=46.5658187866\n",
      "[560] Loss=46.3780975342\n",
      "[580] Loss=45.313495636\n",
      "[600] Loss=44.6560707092\n",
      "メロス は 、 いま は 、 メロス の 男 を\n",
      "[620] Loss=43.8787193298\n",
      "[640] Loss=43.7033538818\n",
      "[660] Loss=43.1025314331\n",
      "[680] Loss=42.2068748474\n",
      "[700] Loss=42.3610649109\n",
      "メロス は 、 いま は 、 きっと 佳い と れ\n",
      "[720] Loss=41.3726196289\n",
      "[740] Loss=40.424659729\n",
      "[760] Loss=40.7331428528\n",
      "[780] Loss=40.1204872131\n",
      "[800] Loss=39.1699676514\n",
      "メロス は 、 いま は 、 いま は 、 村\n",
      "[820] Loss=38.8449516296\n",
      "[840] Loss=38.8446922302\n",
      "[860] Loss=37.9730606079\n",
      "[880] Loss=37.5888328552\n",
      "[900] Loss=36.7845039368\n",
      "メロス は 、 きっと 笑わ れる 。  </s> </s>\n",
      "[920] Loss=36.7935714722\n",
      "[940] Loss=36.3625068665\n",
      "[960] Loss=36.0935935974\n",
      "[980] Loss=35.8412322998\n",
      "[1000] Loss=35.1205024719\n",
      "メロス は 、 村 の からだ を 開始 し た\n",
      "[1020] Loss=35.0267677307\n",
      "[1040] Loss=34.4603233337\n",
      "[1060] Loss=34.1273193359\n",
      "[1080] Loss=34.1162071228\n",
      "[1100] Loss=33.9020843506\n",
      "メロス は 、 きっと 笑わ れる 。  </s> </s>\n",
      "[1120] Loss=33.2286529541\n",
      "[1140] Loss=33.666633606\n",
      "[1160] Loss=33.047618866\n",
      "[1180] Loss=32.7350234985\n",
      "[1200] Loss=32.7012519836\n",
      "メロス は 、 きっと 笑わ れる 。  </s> </s>\n",
      "[1220] Loss=32.0612945557\n",
      "[1240] Loss=32.0147323608\n",
      "[1260] Loss=31.7563533783\n",
      "[1280] Loss=31.6157283783\n",
      "[1300] Loss=31.3668003082\n",
      "メロス は 、 村 の 或 る 律 気 な\n",
      "[1320] Loss=31.310174942\n",
      "[1340] Loss=30.3370285034\n",
      "[1360] Loss=30.8348350525\n",
      "[1380] Loss=30.1413879395\n",
      "[1400] Loss=30.8288269043\n",
      "メロス は 、 ざんぶと 流れ に 飛び込み 、 百 匹\n",
      "[1420] Loss=30.5132007599\n",
      "[1440] Loss=29.5585269928\n",
      "[1460] Loss=29.7925395966\n",
      "[1480] Loss=29.4324245453\n",
      "[1500] Loss=29.175994873\n",
      "メロス は 、 ざんぶと 流れ に 飛び込み 、 百 匹\n",
      "[1520] Loss=29.2563095093\n",
      "[1540] Loss=29.0792045593\n",
      "[1560] Loss=28.6230678558\n",
      "[1580] Loss=28.6499919891\n",
      "[1600] Loss=28.9864063263\n",
      "メロス は 、 ざんぶと 流れ に 飛び込み 、 百 匹\n",
      "[1620] Loss=28.4304866791\n",
      "[1640] Loss=28.4880638123\n",
      "[1660] Loss=28.0320949554\n",
      "[1680] Loss=28.4585704803\n",
      "[1700] Loss=28.1729850769\n",
      "メロス は 、 ざんぶと 流れ に 飛び込み 、 百 匹\n",
      "[1720] Loss=27.5945720673\n",
      "[1740] Loss=27.6385135651\n",
      "[1760] Loss=27.5960674286\n",
      "[1780] Loss=27.2687149048\n",
      "[1800] Loss=26.6606006622\n",
      "メロス は 、 ざんぶと 流れ に 飛び込み 、 百 匹\n",
      "[1820] Loss=27.1571750641\n",
      "[1840] Loss=26.6626281738\n",
      "[1860] Loss=26.8876590729\n",
      "[1880] Loss=26.0672130585\n",
      "[1900] Loss=26.4288711548\n",
      "メロス は 、 ざんぶと 流れ に 飛び込み 、 百 匹\n",
      "[1920] Loss=26.1065578461\n",
      "[1940] Loss=26.1742649078\n",
      "[1960] Loss=25.9428672791\n",
      "[1980] Loss=25.5265522003\n"
     ]
    }
   ],
   "source": [
    "history = []\n",
    "lm.train = True\n",
    "classifier.compute_accuracy = False\n",
    "with cupy.cuda.Device(1):\n",
    "    for i in xrange(2000):\n",
    "        lm.reset_state()\n",
    "        opt.zero_grads()\n",
    "\n",
    "        loss = forward_all(id_vec, classifier, train=True)\n",
    "        loss.backward()\n",
    "        opt.update()\n",
    "        if i % 20 == 0:\n",
    "            print \"[{0}] Loss={1}\".format(i, loss.data)\n",
    "        loss.to_cpu()\n",
    "        history.append(loss.data)\n",
    "        if i % 100 == 0:\n",
    "            lm.train = False\n",
    "            print \" \".join(test(lm))\n",
    "            lm.train = True"
   ]
  },
  {
   "cell_type": "code",
   "execution_count": 29,
   "metadata": {
    "collapsed": true
   },
   "outputs": [],
   "source": [
    "import pandas as pd"
   ]
  },
  {
   "cell_type": "code",
   "execution_count": 30,
   "metadata": {
    "collapsed": false
   },
   "outputs": [
    {
     "data": {
      "text/plain": [
       "<matplotlib.axes._subplots.AxesSubplot at 0x7fb9a5ffa890>"
      ]
     },
     "execution_count": 30,
     "metadata": {},
     "output_type": "execute_result"
    },
    {
     "data": {
      "image/png": "[encoded data removed]",
      "text/plain": [
       "<matplotlib.figure.Figure at 0x7fb9a5fe2910>"
      ]
     },
     "metadata": {},
     "output_type": "display_data"
    }
   ],
   "source": [
    "pd.DataFrame(history, columns=['Loss']).plot(logy=True)"
   ]
  },
  {
   "cell_type": "code",
   "execution_count": 31,
   "metadata": {
    "collapsed": true
   },
   "outputs": [],
   "source": [
    "def sample(model, first=\"メロス\", n_words=100):\n",
    "    model.reset_state()\n",
    "    word = first\n",
    "    ret = []\n",
    "    for i in xrange(n_words):\n",
    "        ret.append(word)\n",
    "        word_id = vocab[word]\n",
    "        y = model(Variable(cupy.array([word_id], dtype=np.int32), volatile=True))\n",
    "        next_word_dist = np.array(cupy.asnumpy(y.data[0]), dtype=np.float)\n",
    "        next_word_dist /= next_word_dist.sum()\n",
    "        next_word_id = np.random.choice(len(vocab), 1, p=list(next_word_dist))[0]\n",
    "        word = filter(lambda (i, v): v == next_word_id, vocab.iteritems())[0][0]\n",
    "    return ret"
   ]
  },
  {
   "cell_type": "code",
   "execution_count": 32,
   "metadata": {
    "collapsed": false
   },
   "outputs": [],
   "source": [
    "lm.train=False\n",
    "lm.softmax = F.softmax"
   ]
  },
  {
   "cell_type": "code",
   "execution_count": 33,
   "metadata": {
    "collapsed": false,
    "scrolled": true
   },
   "outputs": [
    {
     "name": "stdout",
     "output_type": "stream",
     "text": [
      "メロス は 、 待つ 声 で 、 何 を 泣き ながら 希望 の まま 。 言え 。  </s> </s> </s> </s> </s> </s> </s> </s> </s> </s> </s> </s> </s> </s> </s> </s> </s> </s> </s> </s> </s> </s> </s> </s> </s> </s> </s> </s> </s> </s> </s> </s> </s> </s> </s> </s> </s> </s> </s> </s> </s> </s> </s> </s> </s> </s> </s> </s> </s> </s> </s> </s> </s> </s> </s> </s> </s> </s> </s> </s> </s> </s> </s> </s> </s> </s> </s> </s> </s> </s> </s> </s> </s> </s> </s> </s> </s> </s> </s> </s> </s> </s>\n"
     ]
    }
   ],
   "source": [
    "with cupy.cuda.Device(1):\n",
    "    print \" \".join(sample(lm, first=\"メロス\"))"
   ]
  },
  {
   "cell_type": "code",
   "execution_count": 34,
   "metadata": {
    "collapsed": false,
    "scrolled": true
   },
   "outputs": [
    {
     "name": "stdout",
     "output_type": "stream",
     "text": [
      "メロス を 、 はじめて 身代り の 肩 を 取り直し て 、 口 が 出 た が い て 、 ほっと て やり なけれ ば なら ぬ 。  </s> </s> </s> </s> </s> </s> </s> </s> </s> </s> </s> </s> </s> </s> </s> </s> </s> </s> </s> </s> </s> </s> </s> </s> </s> </s> </s> </s> </s> </s> </s> </s> </s> </s> </s> </s> </s> </s> </s> </s> </s> </s> </s> </s> </s> </s> </s> </s> </s> </s> </s> </s> </s> </s> </s> </s> </s> </s> </s> </s> </s> </s> </s> </s> </s> </s> </s> </s> </s> </s> </s> </s>\n"
     ]
    }
   ],
   "source": [
    "with cupy.cuda.Device(1):\n",
    "    print \" \".join(sample(lm, first=\"メロス\"))"
   ]
  },
  {
   "cell_type": "code",
   "execution_count": 35,
   "metadata": {
    "collapsed": false
   },
   "outputs": [
    {
     "name": "stdout",
     "output_type": "stream",
     "text": [
      "国王 は 友 と も 、 母 も 無い 。  </s> </s> </s> </s> </s> </s> </s> </s> </s> </s> </s> </s> </s> </s> </s> </s> </s> </s> </s> </s> </s> </s> </s> </s> </s> </s> </s> </s> </s> </s> </s> </s> </s> </s> </s> </s> </s> </s> </s> </s> </s> </s> </s> </s> </s> </s> </s> </s> </s> </s> </s> </s> </s> </s> </s> </s> </s> </s> </s> </s> </s> </s> </s> </s> </s> </s> </s> </s> </s> </s> </s> </s> </s> </s> </s> </s> </s> </s> </s> </s> </s> </s> </s> </s> </s> </s> </s> </s> </s>\n"
     ]
    }
   ],
   "source": [
    "with cupy.cuda.Device(1):\n",
    "    print \" \".join(sample(lm, first=\"国王\"))"
   ]
  },
  {
   "cell_type": "code",
   "execution_count": 36,
   "metadata": {
    "collapsed": false
   },
   "outputs": [
    {
     "name": "stdout",
     "output_type": "stream",
     "text": [
      "国王 は 沈ま て なら ぬ 。  </s> </s> </s> </s> </s> </s> </s> </s> </s> </s> </s> </s> </s> </s> </s> </s> </s> </s> </s> </s> </s> </s> </s> </s> </s> </s> </s> </s> </s> </s> </s> </s> </s> </s> </s> </s> </s> </s> </s> </s> </s> </s> </s> </s> </s> </s> </s> </s> </s> </s> </s> </s> </s> </s> </s> </s> </s> </s> </s> </s> </s> </s> </s> </s> </s> </s> </s> </s> </s> </s> </s> </s> </s> </s> </s> </s> </s> </s> </s> </s> </s> </s> </s> </s> </s> </s> </s> </s> </s> </s> </s> </s>\n"
     ]
    }
   ],
   "source": [
    "with cupy.cuda.Device(1):\n",
    "    print \" \".join(sample(lm, first=\"国王\"))"
   ]
  },
  {
   "cell_type": "code",
   "execution_count": 37,
   "metadata": {
    "collapsed": false
   },
   "outputs": [
    {
     "name": "stdout",
     "output_type": "stream",
     "text": [
      "メロス は 、 今宵 、 寝過し でも 、 どう でも いい 。  </s> </s> </s> </s> </s> </s> </s> </s> </s> </s> </s> </s> </s> </s> </s> </s> </s> </s> </s> </s> </s> </s> </s> </s> </s> </s> </s> </s> </s> </s> </s> </s> </s> </s> </s> </s> </s> </s> </s> </s> </s> </s> </s> </s> </s> </s> </s> </s> </s> </s> </s> </s> </s> </s> </s> </s> </s> </s> </s> </s> </s> </s> </s> </s> </s> </s> </s> </s> </s> </s> </s> </s> </s> </s> </s> </s> </s> </s> </s> </s> </s> </s> </s> </s> </s> </s> </s>\n"
     ]
    }
   ],
   "source": [
    "with cupy.cuda.Device(1):\n",
    "    print \" \".join(sample(lm, first=\"メロス\"))"
   ]
  },
  {
   "cell_type": "code",
   "execution_count": 38,
   "metadata": {
    "collapsed": false
   },
   "outputs": [
    {
     "name": "stdout",
     "output_type": "stream",
     "text": [
      "メロス は 、 王 の 士 まで に の からだ を 開始 し た 。  </s> </s> </s> </s> </s> </s> </s> </s> </s> </s> </s> </s> </s> </s> </s> </s> </s> </s> </s> </s> </s> </s> </s> </s> </s> </s> </s> </s> </s> </s> </s> </s> </s> </s> </s> </s> </s> </s> </s> </s> </s> </s> </s> </s> </s> </s> </s> </s> </s> </s> </s> </s> </s> </s> </s> </s> </s> </s> </s> </s> </s> </s> </s> </s> </s> </s> </s> </s> </s> </s> </s> </s> </s> </s> </s> </s> </s> </s> </s> </s> </s> </s> </s> </s>\n"
     ]
    }
   ],
   "source": [
    "with cupy.cuda.Device(1):\n",
    "    print \" \".join(sample(lm, first=\"メロス\"))"
   ]
  },
  {
   "cell_type": "code",
   "execution_count": null,
   "metadata": {
    "collapsed": true
   },
   "outputs": [],
   "source": []
  }
 ],
 "metadata": {
  "kernelspec": {
   "display_name": "Python 2",
   "language": "python",
   "name": "python2"
  },
  "language_info": {
   "codemirror_mode": {
    "name": "ipython",
    "version": 2
   },
   "file_extension": ".py",
   "mimetype": "text/x-python",
   "name": "python",
   "nbconvert_exporter": "python",
   "pygments_lexer": "ipython2",
   "version": "2.7.6"
  }
 },
 "nbformat": 4,
 "nbformat_minor": 0
}
